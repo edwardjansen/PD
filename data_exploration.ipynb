{
 "cells": [
  {
   "cell_type": "code",
   "execution_count": 1,
   "metadata": {},
   "outputs": [],
   "source": [
    "# import display libs\n",
    "from IPython.display import Image\n",
    "%matplotlib inline\n",
    "from IPython.display import Latex"
   ]
  },
  {
   "cell_type": "code",
   "execution_count": 2,
   "metadata": {},
   "outputs": [
    {
     "name": "stderr",
     "output_type": "stream",
     "text": [
      "C:\\Users\\EdwardJansenADC\\Anaconda3\\lib\\site-packages\\ipykernel_launcher.py:27: MatplotlibDeprecationWarning: \n",
      "The text.latex.unicode rcparam was deprecated in Matplotlib 3.0 and will be removed in 3.2.\n"
     ]
    },
    {
     "data": {
      "text/plain": [
       "'C:\\\\Users\\\\EdwardJansenADC\\\\.matplotlib'"
      ]
     },
     "execution_count": 2,
     "metadata": {},
     "output_type": "execute_result"
    }
   ],
   "source": [
    "# import libs\n",
    "import numpy as np\n",
    "import pandas as pd\n",
    "import matplotlib\n",
    "import matplotlib.pyplot as plt\n",
    "\n",
    "\n",
    "# setup figure params\n",
    "figureparams = {'axes.labelsize': 24,\n",
    "           'axes.titlesize': 20,\n",
    "           'axes.linewidth': 1.3,\n",
    "           'font.size': 20,\n",
    "           'legend.fontsize': 18,\n",
    "           'figure.figsize': (10,7),\n",
    "           'font.family': 'serif',\n",
    "           'font.serif': 'Computer Modern Roman',\n",
    "           'xtick.labelsize': 18,\n",
    "           'xtick.major.size': 5.5,\n",
    "           'xtick.major.width': 1.3,\n",
    "           'ytick.labelsize': 18,\n",
    "           'ytick.major.size': 5.5,\n",
    "           'ytick.major.width': 1.3,\n",
    "           'text.usetex': True,\n",
    "           'figure.autolayout': True}\n",
    "plt.rcParams.update(figureparams)\n",
    "matplotlib.rcParams['text.usetex']=False\n",
    "matplotlib.rcParams['text.latex.unicode']=True\n",
    "matplotlib.get_configdir()"
   ]
  },
  {
   "cell_type": "markdown",
   "metadata": {},
   "source": [
    "# Data Exploration"
   ]
  },
  {
   "cell_type": "markdown",
   "metadata": {},
   "source": [
    "### Load data"
   ]
  },
  {
   "cell_type": "code",
   "execution_count": 17,
   "metadata": {},
   "outputs": [],
   "source": [
    "df = pd.read_csv('data/randomisedData.csv')\n",
    "cols = df.columns\n",
    "numvars = cols[df.dtypes != 'object']\n",
    "cats = cols[df.dtypes == 'object']"
   ]
  },
  {
   "cell_type": "code",
   "execution_count": 22,
   "metadata": {},
   "outputs": [
    {
     "name": "stdout",
     "output_type": "stream",
     "text": [
      "Index(['ID', 'period', 'arrears.amount', 'loan.amount', 'no.months.default',\n",
      "       'arrears.at.default', 'ltv', 'market.value', 'interest', 'region',\n",
      "       'housing', 'maturity.remaining', 'gender', 'cust.age',\n",
      "       'years.as.customer', 'target'],\n",
      "      dtype='object')\n",
      "Index(['ID', 'arrears.amount', 'loan.amount', 'no.months.default',\n",
      "       'arrears.at.default', 'ltv', 'market.value', 'interest',\n",
      "       'maturity.remaining', 'cust.age', 'years.as.customer', 'target'],\n",
      "      dtype='object')\n",
      "Index(['period', 'region', 'housing', 'gender'], dtype='object')\n",
      "\n",
      "Q: Have we done this correctly? A: True\n"
     ]
    }
   ],
   "source": [
    "print(cols)\n",
    "print(numvars)\n",
    "print(cats)\n",
    "print(\"\")\n",
    "print(\"Q: Have we done this correctly? A: \"+ str(len(cats) + len(numvars) == len(cols)) )"
   ]
  },
  {
   "cell_type": "markdown",
   "metadata": {},
   "source": [
    "## Have a first look: check distributions"
   ]
  },
  {
   "cell_type": "markdown",
   "metadata": {},
   "source": [
    "### Numerical variables"
   ]
  },
  {
   "cell_type": "code",
   "execution_count": 8,
   "metadata": {},
   "outputs": [
    {
     "data": {
      "text/html": [
       "<div>\n",
       "<style scoped>\n",
       "    .dataframe tbody tr th:only-of-type {\n",
       "        vertical-align: middle;\n",
       "    }\n",
       "\n",
       "    .dataframe tbody tr th {\n",
       "        vertical-align: top;\n",
       "    }\n",
       "\n",
       "    .dataframe thead th {\n",
       "        text-align: right;\n",
       "    }\n",
       "</style>\n",
       "<table border=\"1\" class=\"dataframe\">\n",
       "  <thead>\n",
       "    <tr style=\"text-align: right;\">\n",
       "      <th></th>\n",
       "      <th>ID</th>\n",
       "      <th>arrears.amount</th>\n",
       "      <th>loan.amount</th>\n",
       "      <th>no.months.default</th>\n",
       "      <th>arrears.at.default</th>\n",
       "      <th>ltv</th>\n",
       "      <th>market.value</th>\n",
       "      <th>interest</th>\n",
       "      <th>maturity.remaining</th>\n",
       "      <th>cust.age</th>\n",
       "      <th>years.as.customer</th>\n",
       "      <th>target</th>\n",
       "    </tr>\n",
       "  </thead>\n",
       "  <tbody>\n",
       "    <tr>\n",
       "      <td>count</td>\n",
       "      <td>7866.000000</td>\n",
       "      <td>7866.000000</td>\n",
       "      <td>7.866000e+03</td>\n",
       "      <td>7866.000000</td>\n",
       "      <td>7866.000000</td>\n",
       "      <td>7866.000000</td>\n",
       "      <td>7.866000e+03</td>\n",
       "      <td>7866.000000</td>\n",
       "      <td>7866.000000</td>\n",
       "      <td>7866.000000</td>\n",
       "      <td>7866.000000</td>\n",
       "      <td>7866.000000</td>\n",
       "    </tr>\n",
       "    <tr>\n",
       "      <td>mean</td>\n",
       "      <td>1413.739258</td>\n",
       "      <td>5713.754547</td>\n",
       "      <td>2.068190e+05</td>\n",
       "      <td>11.429062</td>\n",
       "      <td>4394.007626</td>\n",
       "      <td>0.927771</td>\n",
       "      <td>2.580137e+05</td>\n",
       "      <td>4.753750</td>\n",
       "      <td>246.141749</td>\n",
       "      <td>48.272438</td>\n",
       "      <td>9.488813</td>\n",
       "      <td>0.615688</td>\n",
       "    </tr>\n",
       "    <tr>\n",
       "      <td>std</td>\n",
       "      <td>818.876014</td>\n",
       "      <td>9562.429037</td>\n",
       "      <td>1.185879e+05</td>\n",
       "      <td>11.096358</td>\n",
       "      <td>6357.074686</td>\n",
       "      <td>0.494258</td>\n",
       "      <td>1.778129e+05</td>\n",
       "      <td>1.141062</td>\n",
       "      <td>71.250047</td>\n",
       "      <td>13.737967</td>\n",
       "      <td>6.584494</td>\n",
       "      <td>0.486463</td>\n",
       "    </tr>\n",
       "    <tr>\n",
       "      <td>min</td>\n",
       "      <td>1.000000</td>\n",
       "      <td>0.670000</td>\n",
       "      <td>1.514200e+02</td>\n",
       "      <td>1.000000</td>\n",
       "      <td>1.566177</td>\n",
       "      <td>0.000352</td>\n",
       "      <td>1.371506e+04</td>\n",
       "      <td>-0.300000</td>\n",
       "      <td>0.000000</td>\n",
       "      <td>8.000000</td>\n",
       "      <td>0.000000</td>\n",
       "      <td>0.000000</td>\n",
       "    </tr>\n",
       "    <tr>\n",
       "      <td>1%</td>\n",
       "      <td>41.650000</td>\n",
       "      <td>42.550000</td>\n",
       "      <td>5.891410e+03</td>\n",
       "      <td>1.000000</td>\n",
       "      <td>46.948347</td>\n",
       "      <td>0.024359</td>\n",
       "      <td>4.725421e+04</td>\n",
       "      <td>1.738975</td>\n",
       "      <td>7.650000</td>\n",
       "      <td>21.000000</td>\n",
       "      <td>0.000000</td>\n",
       "      <td>0.000000</td>\n",
       "    </tr>\n",
       "    <tr>\n",
       "      <td>5%</td>\n",
       "      <td>162.000000</td>\n",
       "      <td>158.074660</td>\n",
       "      <td>5.206637e+04</td>\n",
       "      <td>1.000000</td>\n",
       "      <td>186.034573</td>\n",
       "      <td>0.242601</td>\n",
       "      <td>8.996396e+04</td>\n",
       "      <td>2.750000</td>\n",
       "      <td>130.000000</td>\n",
       "      <td>28.000000</td>\n",
       "      <td>1.000000</td>\n",
       "      <td>0.000000</td>\n",
       "    </tr>\n",
       "    <tr>\n",
       "      <td>25%</td>\n",
       "      <td>699.250000</td>\n",
       "      <td>896.049248</td>\n",
       "      <td>1.311269e+05</td>\n",
       "      <td>4.000000</td>\n",
       "      <td>969.818497</td>\n",
       "      <td>0.684347</td>\n",
       "      <td>1.511025e+05</td>\n",
       "      <td>4.084600</td>\n",
       "      <td>217.000000</td>\n",
       "      <td>39.000000</td>\n",
       "      <td>4.000000</td>\n",
       "      <td>0.000000</td>\n",
       "    </tr>\n",
       "    <tr>\n",
       "      <td>50%</td>\n",
       "      <td>1395.500000</td>\n",
       "      <td>2506.767988</td>\n",
       "      <td>1.846890e+05</td>\n",
       "      <td>8.000000</td>\n",
       "      <td>2402.005827</td>\n",
       "      <td>0.891882</td>\n",
       "      <td>2.084895e+05</td>\n",
       "      <td>4.900000</td>\n",
       "      <td>250.000000</td>\n",
       "      <td>48.000000</td>\n",
       "      <td>9.000000</td>\n",
       "      <td>1.000000</td>\n",
       "    </tr>\n",
       "    <tr>\n",
       "      <td>75%</td>\n",
       "      <td>2123.000000</td>\n",
       "      <td>6996.925387</td>\n",
       "      <td>2.578993e+05</td>\n",
       "      <td>15.000000</td>\n",
       "      <td>5352.385919</td>\n",
       "      <td>1.120936</td>\n",
       "      <td>3.103994e+05</td>\n",
       "      <td>5.550000</td>\n",
       "      <td>285.000000</td>\n",
       "      <td>56.000000</td>\n",
       "      <td>14.000000</td>\n",
       "      <td>1.000000</td>\n",
       "    </tr>\n",
       "    <tr>\n",
       "      <td>95%</td>\n",
       "      <td>2695.000000</td>\n",
       "      <td>20478.187933</td>\n",
       "      <td>4.312675e+05</td>\n",
       "      <td>34.000000</td>\n",
       "      <td>15190.357525</td>\n",
       "      <td>1.597657</td>\n",
       "      <td>5.896300e+05</td>\n",
       "      <td>6.393475</td>\n",
       "      <td>328.000000</td>\n",
       "      <td>71.000000</td>\n",
       "      <td>22.000000</td>\n",
       "      <td>1.000000</td>\n",
       "    </tr>\n",
       "    <tr>\n",
       "      <td>99%</td>\n",
       "      <td>2804.000000</td>\n",
       "      <td>42524.390449</td>\n",
       "      <td>6.119079e+05</td>\n",
       "      <td>54.000000</td>\n",
       "      <td>29297.385100</td>\n",
       "      <td>2.401837</td>\n",
       "      <td>8.899686e+05</td>\n",
       "      <td>6.850000</td>\n",
       "      <td>347.350000</td>\n",
       "      <td>87.000000</td>\n",
       "      <td>27.000000</td>\n",
       "      <td>1.000000</td>\n",
       "    </tr>\n",
       "    <tr>\n",
       "      <td>max</td>\n",
       "      <td>2832.000000</td>\n",
       "      <td>253017.391368</td>\n",
       "      <td>1.118675e+06</td>\n",
       "      <td>81.000000</td>\n",
       "      <td>105037.752992</td>\n",
       "      <td>9.666311</td>\n",
       "      <td>2.700749e+06</td>\n",
       "      <td>11.450800</td>\n",
       "      <td>800.000000</td>\n",
       "      <td>120.000000</td>\n",
       "      <td>35.000000</td>\n",
       "      <td>1.000000</td>\n",
       "    </tr>\n",
       "  </tbody>\n",
       "</table>\n",
       "</div>"
      ],
      "text/plain": [
       "                ID  arrears.amount   loan.amount  no.months.default  \\\n",
       "count  7866.000000     7866.000000  7.866000e+03        7866.000000   \n",
       "mean   1413.739258     5713.754547  2.068190e+05          11.429062   \n",
       "std     818.876014     9562.429037  1.185879e+05          11.096358   \n",
       "min       1.000000        0.670000  1.514200e+02           1.000000   \n",
       "1%       41.650000       42.550000  5.891410e+03           1.000000   \n",
       "5%      162.000000      158.074660  5.206637e+04           1.000000   \n",
       "25%     699.250000      896.049248  1.311269e+05           4.000000   \n",
       "50%    1395.500000     2506.767988  1.846890e+05           8.000000   \n",
       "75%    2123.000000     6996.925387  2.578993e+05          15.000000   \n",
       "95%    2695.000000    20478.187933  4.312675e+05          34.000000   \n",
       "99%    2804.000000    42524.390449  6.119079e+05          54.000000   \n",
       "max    2832.000000   253017.391368  1.118675e+06          81.000000   \n",
       "\n",
       "       arrears.at.default          ltv  market.value     interest  \\\n",
       "count         7866.000000  7866.000000  7.866000e+03  7866.000000   \n",
       "mean          4394.007626     0.927771  2.580137e+05     4.753750   \n",
       "std           6357.074686     0.494258  1.778129e+05     1.141062   \n",
       "min              1.566177     0.000352  1.371506e+04    -0.300000   \n",
       "1%              46.948347     0.024359  4.725421e+04     1.738975   \n",
       "5%             186.034573     0.242601  8.996396e+04     2.750000   \n",
       "25%            969.818497     0.684347  1.511025e+05     4.084600   \n",
       "50%           2402.005827     0.891882  2.084895e+05     4.900000   \n",
       "75%           5352.385919     1.120936  3.103994e+05     5.550000   \n",
       "95%          15190.357525     1.597657  5.896300e+05     6.393475   \n",
       "99%          29297.385100     2.401837  8.899686e+05     6.850000   \n",
       "max         105037.752992     9.666311  2.700749e+06    11.450800   \n",
       "\n",
       "       maturity.remaining     cust.age  years.as.customer       target  \n",
       "count         7866.000000  7866.000000        7866.000000  7866.000000  \n",
       "mean           246.141749    48.272438           9.488813     0.615688  \n",
       "std             71.250047    13.737967           6.584494     0.486463  \n",
       "min              0.000000     8.000000           0.000000     0.000000  \n",
       "1%               7.650000    21.000000           0.000000     0.000000  \n",
       "5%             130.000000    28.000000           1.000000     0.000000  \n",
       "25%            217.000000    39.000000           4.000000     0.000000  \n",
       "50%            250.000000    48.000000           9.000000     1.000000  \n",
       "75%            285.000000    56.000000          14.000000     1.000000  \n",
       "95%            328.000000    71.000000          22.000000     1.000000  \n",
       "99%            347.350000    87.000000          27.000000     1.000000  \n",
       "max            800.000000   120.000000          35.000000     1.000000  "
      ]
     },
     "execution_count": 8,
     "metadata": {},
     "output_type": "execute_result"
    }
   ],
   "source": [
    "df.describe(percentiles = [0.01, 0.05, .25, .5, .75, 0.95, 0.99])"
   ]
  },
  {
   "cell_type": "code",
   "execution_count": 23,
   "metadata": {},
   "outputs": [
    {
     "data": {
      "image/png": "[encoded data removed]",
      "text/plain": [
       "<Figure size 720x504 with 12 Axes>"
      ]
     },
     "metadata": {
      "needs_background": "light"
     },
     "output_type": "display_data"
    }
   ],
   "source": [
    "df[numvars].hist();"
   ]
  },
  {
   "cell_type": "markdown",
   "metadata": {},
   "source": [
    "### Categorical variables"
   ]
  },
  {
   "cell_type": "code",
   "execution_count": 28,
   "metadata": {},
   "outputs": [
    {
     "data": {
      "text/plain": [
       "period     157\n",
       "region      13\n",
       "housing     12\n",
       "gender       3\n",
       "dtype: int64"
      ]
     },
     "execution_count": 28,
     "metadata": {},
     "output_type": "execute_result"
    }
   ],
   "source": [
    "df[cats].nunique()"
   ]
  },
  {
   "cell_type": "code",
   "execution_count": 38,
   "metadata": {},
   "outputs": [
    {
     "name": "stdout",
     "output_type": "stream",
     "text": [
      "Unique values in categorical variables:\n",
      "\n",
      "period\n",
      "['2009-11-01' '2010-02-01' '2010-05-01' '2010-08-01' '2010-11-01'\n",
      " '2009-10-01' '2010-01-01' '2008-09-01' '2010-03-01' '2008-10-01'\n",
      " '2009-01-01' '2009-04-01' '2010-07-01' '2010-10-01' '2006-09-01'\n",
      " '2008-02-01' '2008-05-01' '2008-11-01' '2009-02-01' '2009-05-01'\n",
      " '2010-04-01' '2010-06-01' '2011-06-01' '2009-06-01' '2009-09-01'\n",
      " '2009-12-01' '2010-09-01' '2011-09-01' '2011-12-01' '2011-02-01'\n",
      " '2011-05-01' '2008-12-01' '2009-03-01' '2011-03-01' '2009-08-01'\n",
      " '2009-07-01' '2008-07-01' '2012-01-01' '2013-03-01' '2013-06-01'\n",
      " '2012-03-01' '2010-12-01' '2012-06-01' '2011-01-01' '2011-04-01'\n",
      " '2008-08-01' '2011-07-01' '2011-10-01' '2011-08-01' '2008-04-01'\n",
      " '2013-01-01' '2013-05-01' '2008-01-01' '2015-03-01' '2015-06-01'\n",
      " '2015-09-01' '2015-12-01' '2016-03-01' '2007-08-01' '2015-05-01'\n",
      " '2015-08-01' '2015-11-01' '2016-12-01' '2017-06-01' '2017-09-01'\n",
      " '2017-12-01' '2018-04-01' '2018-07-01' '2018-10-01' '2012-12-01'\n",
      " '2017-04-01' '2017-07-01' '2014-11-01' '2018-11-01' '2019-02-01'\n",
      " '2012-04-01' '2012-07-01' '2012-10-01' '2016-07-01' '2016-10-01'\n",
      " '2017-01-01' '2018-03-01' '2018-06-01' '2017-03-01' '2014-05-01'\n",
      " '2014-08-01' '2015-02-01' '2014-07-01' '2014-10-01' '2013-02-01'\n",
      " '2013-08-01' '2013-11-01' '2014-12-01' '2017-10-01' '2018-01-01'\n",
      " '2014-06-01' '2014-09-01' '2013-04-01' '2013-07-01' '2015-07-01'\n",
      " '2016-06-01' '2016-09-01' '2016-02-01' '2016-05-01' '2019-01-01'\n",
      " '2018-02-01' '2011-11-01' '2008-03-01' '2008-06-01' '2017-05-01'\n",
      " '2016-08-01' '2013-09-01' '2013-12-01' '2018-08-01' '2012-05-01'\n",
      " '2012-08-01' '2012-11-01' '2016-11-01' '2018-09-01' '2013-10-01'\n",
      " '2012-02-01' '2014-02-01' '2012-09-01' '2014-01-01' '2014-04-01'\n",
      " '2015-04-01' '2015-10-01' '2016-01-01' '2016-04-01' '2015-01-01'\n",
      " '2017-02-01' '2018-12-01' '2019-03-01' '2019-06-01' '2014-03-01'\n",
      " '2017-11-01' '2007-11-01' '2017-08-01' '2019-04-01' '2018-05-01'\n",
      " '2019-05-01' '2007-06-01' '2007-09-01' '2007-12-01' '2019-07-01'\n",
      " '2019-09-01' '2019-12-01' '2020-03-01' '2007-10-01' '2019-10-01'\n",
      " '2020-01-01' '2019-08-01' '2020-06-01' '2020-09-01' '2020-12-01'\n",
      " '2019-11-01' '2007-07-01']\n",
      "\n",
      "region\n",
      "['Flevoland' 'Noord-Holland' 'Limburg' 'Gelderland' 'Zuid-Holland'\n",
      " 'Noord-Brabant' 'Overijssel' 'Friesland' 'Groningen' 'Zeeland' 'Utrecht'\n",
      " 'Drenthe' 'unspecified']\n",
      "\n",
      "housing\n",
      "['Single family house' 'Flat/appartment' 'Single family house with garage'\n",
      " 'Rural estate' 'Shop/private house' 'Flat/appartment with garage'\n",
      " 'Unknown' 'Condominium with garage' 'Condominium' 'Business premises'\n",
      " 'Residential farm' 'Office/private house']\n",
      "\n",
      "gender\n",
      "['Unknown' 'F' 'M']\n"
     ]
    }
   ],
   "source": [
    "print(\"Unique values in categorical variables:\")\n",
    "for i in cats:\n",
    "    print(\"\")\n",
    "    print(i)\n",
    "    print(df[i].unique() )"
   ]
  },
  {
   "cell_type": "markdown",
   "metadata": {},
   "source": [
    "Let's convert the strings to numbers to be able to plot distributions"
   ]
  },
  {
   "cell_type": "code",
   "execution_count": 47,
   "metadata": {},
   "outputs": [],
   "source": [
    "from sklearn.preprocessing import LabelEncoder\n",
    "LE = LabelEncoder()\n",
    "\n",
    "for i in cats[1::]:\n",
    "    df[i] = LE.fit_transform(df[i])"
   ]
  },
  {
   "cell_type": "code",
   "execution_count": 50,
   "metadata": {},
   "outputs": [
    {
     "data": {
      "image/png": "[encoded data removed]",
      "text/plain": [
       "<Figure size 720x504 with 4 Axes>"
      ]
     },
     "metadata": {
      "needs_background": "light"
     },
     "output_type": "display_data"
    }
   ],
   "source": [
    "df[cats].hist();"
   ]
  },
  {
   "cell_type": "markdown",
   "metadata": {},
   "source": [
    "## Check for missing values"
   ]
  },
  {
   "cell_type": "code",
   "execution_count": 42,
   "metadata": {},
   "outputs": [
    {
     "data": {
      "text/plain": [
       "ID                    0\n",
       "period                0\n",
       "arrears.amount        0\n",
       "loan.amount           0\n",
       "no.months.default     0\n",
       "arrears.at.default    0\n",
       "ltv                   0\n",
       "market.value          0\n",
       "interest              0\n",
       "region                0\n",
       "housing               0\n",
       "maturity.remaining    0\n",
       "gender                0\n",
       "cust.age              0\n",
       "years.as.customer     0\n",
       "target                0\n",
       "dtype: int64"
      ]
     },
     "execution_count": 42,
     "metadata": {},
     "output_type": "execute_result"
    }
   ],
   "source": [
    "df.isnull().sum()"
   ]
  },
  {
   "cell_type": "code",
   "execution_count": null,
   "metadata": {},
   "outputs": [],
   "source": []
  },
  {
   "cell_type": "code",
   "execution_count": null,
   "metadata": {},
   "outputs": [],
   "source": []
  },
  {
   "cell_type": "code",
   "execution_count": null,
   "metadata": {},
   "outputs": [],
   "source": []
  }
 ],
 "metadata": {
  "kernelspec": {
   "display_name": "Python 3",
   "language": "python",
   "name": "python3"
  },
  "language_info": {
   "codemirror_mode": {
    "name": "ipython",
    "version": 3
   },
   "file_extension": ".py",
   "mimetype": "text/x-python",
   "name": "python",
   "nbconvert_exporter": "python",
   "pygments_lexer": "ipython3",
   "version": "3.7.4"
  }
 },
 "nbformat": 4,
 "nbformat_minor": 2
}
